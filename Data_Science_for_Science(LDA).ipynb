{
  "nbformat": 4,
  "nbformat_minor": 0,
  "metadata": {
    "colab": {
      "provenance": [],
      "authorship_tag": "ABX9TyNLXcAZAI+hjMn5Xoky7KIA",
      "include_colab_link": true
    },
    "kernelspec": {
      "name": "python3",
      "display_name": "Python 3"
    },
    "language_info": {
      "name": "python"
    }
  },
  "cells": [
    {
      "cell_type": "markdown",
      "metadata": {
        "id": "view-in-github",
        "colab_type": "text"
      },
      "source": [
        "<a href=\"https://colab.research.google.com/github/bilalsarimeseli/Data_Science_For_Science/blob/main/Data_Science_for_Science(LDA).ipynb\" target=\"_parent\"><img src=\"https://colab.research.google.com/assets/colab-badge.svg\" alt=\"Open In Colab\"/></a>"
      ]
    },
    {
      "cell_type": "markdown",
      "source": [
        "## **LINEAR DISCRIMINANT ANALYSIS (LDA)**\n",
        "\n",
        "Linear Discriminant Analysis (LDA) is a classification machine learning algorithm that calculates summary statistics for input features by class label, such as mean and standard deviation.\n",
        "\n",
        "These statistics represent the model learned from training data, with linear algebra operations used for efficient computation via matrix decomposition. Predictions are based on estimating the probability of a new example belonging to each class label, and the class with the highest probability is assigned to the example.\n",
        "\n",
        "LDA can be seen as a simple application of Bayes Theorem for classification. It assumes numeric, normally distributed input variables with the same variance; if not met, data transformation to achieve a Gaussian distribution and standardization or normalization may be desirable prior to modeling.\n",
        "\n",
        "See the image below:\n",
        "![LDA](https://ml-explained.com/articles/linear-discriminant-analysis-explained/lda_example.png)"
      ],
      "metadata": {
        "id": "NyPGKCj0MfB_"
      }
    },
    {
      "cell_type": "markdown",
      "source": [
        "### Definition and Use Cases:\n",
        "\n",
        "\n",
        "*   Linear combination of features that seperate two classes of objects\n",
        "*   Used for dimensionality reduction\n",
        "*   Used for continous quantities\n",
        "\n",
        "\n"
      ],
      "metadata": {
        "id": "Ef-KHYy1MpBg"
      }
    },
    {
      "cell_type": "markdown",
      "source": [
        "#### Discrimination Rules:\n",
        "\n",
        "\n",
        "*   Maximum Likelihood\n",
        "*   Bayes' Discriminant Rule\n",
        "*   Fisher's Linear Discriminant Rule\n",
        "\n"
      ],
      "metadata": {
        "id": "o96yaaKjNLMx"
      }
    },
    {
      "cell_type": "markdown",
      "source": [
        "### Sample Pipeline\n",
        "**Matrix of Text** ==> **Feature Selection** ==> **LDA** ==> **Non-negative Matrix Factorization (NNMF)**\n",
        "\n",
        "\n",
        "---\n",
        "\n",
        "![LDA](https://sebastianraschka.com/images/blog/2014/linear-discriminant-analysis/lda_1.png)"
      ],
      "metadata": {
        "id": "T25FPMV0Nm3b"
      }
    },
    {
      "cell_type": "code",
      "source": [],
      "metadata": {
        "id": "jEhXjttWNozT"
      },
      "execution_count": null,
      "outputs": []
    }
  ]
}