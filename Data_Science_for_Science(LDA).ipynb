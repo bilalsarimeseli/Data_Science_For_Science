{
  "nbformat": 4,
  "nbformat_minor": 0,
  "metadata": {
    "colab": {
      "provenance": [],
      "authorship_tag": "ABX9TyOLb9AV+/CeguWk9JwUh9jB",
      "include_colab_link": true
    },
    "kernelspec": {
      "name": "python3",
      "display_name": "Python 3"
    },
    "language_info": {
      "name": "python"
    }
  },
  "cells": [
    {
      "cell_type": "markdown",
      "metadata": {
        "id": "view-in-github",
        "colab_type": "text"
      },
      "source": [
        "<a href=\"https://colab.research.google.com/github/bilalsarimeseli/Data_Science_For_Science/blob/main/Data_Science_for_Science(LDA).ipynb\" target=\"_parent\"><img src=\"https://colab.research.google.com/assets/colab-badge.svg\" alt=\"Open In Colab\"/></a>"
      ]
    },
    {
      "cell_type": "markdown",
      "source": [
        "## **LINEAR DISCRIMINANT ANALYSIS (LDA)**\n",
        "\n",
        "Linear Discriminant Analysis (LDA) is a classification machine learning algorithm that calculates summary statistics for input features by class label, such as mean and standard deviation.\n",
        "\n",
        "These statistics represent the model learned from training data, with linear algebra operations used for efficient computation via matrix decomposition. Predictions are based on estimating the probability of a new example belonging to each class label, and the class with the highest probability is assigned to the example.\n",
        "\n",
        "LDA can be seen as a simple application of Bayes Theorem for classification. It assumes numeric, normally distributed input variables with the same variance; if not met, data transformation to achieve a Gaussian distribution and standardization or normalization may be desirable prior to modeling.\n",
        "\n",
        "See the image below:\n",
        "![LDA](https://ml-explained.com/articles/linear-discriminant-analysis-explained/lda_example.png)"
      ],
      "metadata": {
        "id": "NyPGKCj0MfB_"
      }
    },
    {
      "cell_type": "markdown",
      "source": [
        "### Definition and Use Cases:\n",
        "\n",
        "\n",
        "*   Linear combination of features that seperate two classes of objects\n",
        "*   Used for dimensionality reduction\n",
        "*   Used for continous quantities\n",
        "\n",
        "\n"
      ],
      "metadata": {
        "id": "Ef-KHYy1MpBg"
      }
    },
    {
      "cell_type": "markdown",
      "source": [
        "#### Discrimination Rules:\n",
        "\n",
        "\n",
        "*   Maximum Likelihood\n",
        "*   Bayes' Discriminant Rule\n",
        "*   Fisher's Linear Discriminant Rule\n",
        "\n"
      ],
      "metadata": {
        "id": "o96yaaKjNLMx"
      }
    },
    {
      "cell_type": "markdown",
      "source": [
        "### Sample Pipeline\n",
        "**Matrix of Text** ==> **Feature Selection** ==> **LDA** ==> **Non-negative Matrix Factorization (NNMF)**\n",
        "\n",
        "\n",
        "---\n",
        "\n",
        "![LDA](https://sebastianraschka.com/images/blog/2014/linear-discriminant-analysis/lda_1.png)"
      ],
      "metadata": {
        "id": "T25FPMV0Nm3b"
      }
    },
    {
      "cell_type": "markdown",
      "source": [
        "### **FOUNDATIONAL AI ALGORITHMS**:\n",
        "\n",
        "Supervised learning looks to predict, while unsupervised learning looks to find patterns.\n",
        "\n",
        "### Supervised Learning:\n",
        "![Supervised](https://miro.medium.com/v2/resize:fit:1100/format:webp/1*ASYpFfDh7XnreU-ygqXonw.png)\n",
        "\n",
        "**Regression:**\n",
        "\n",
        "`Linear Regressors`: SVM and Ridge/Lasso Regressors\n",
        "\n",
        "`Tree-based Regressors`: Random Forest Regressors\n",
        "\n",
        "`Gradient boosting algorithms`: ADA boost\n",
        "\n",
        "\n",
        "**Classification:**\n",
        "\n",
        "`Linear Discriminators`: SVM and LDA's.\n",
        "\n",
        "`Tree-based Classifiers`: Random Forest Classifier\n",
        "\n",
        "\n",
        "`Neural Networks`: Multilayer Perceptron\n",
        "\n",
        "### Unsupervised Learning:\n",
        "\n",
        "**Clustering:**\n",
        "* `K-Means Clustering`:\n",
        "\n",
        "Assign a centroid to each group\n",
        "\n",
        "K is the desired number of clusters\n",
        "\n",
        "* `Principal Component Analysis (PCA)`: Finds central axes of data\n",
        "\n",
        "* `Singular Value Decomposition`: Breaks down data into its composite parts\n",
        "\n",
        "**Anomaly Detection:**\n",
        "\n",
        "* `K-Means Clustering`: Search for outliers in means\n",
        "\n",
        "![unsupervised](https://miro.medium.com/v2/resize:fit:1400/0*tamvSiqDneDfw2Vr)"
      ],
      "metadata": {
        "id": "tyoqea5aJ0E7"
      }
    },
    {
      "cell_type": "markdown",
      "source": [
        "## **K-Means and K-NN**\n",
        "**==>** Based on central tendencies of data\n",
        "\n",
        "**==>** Rely on observation of closest points\n",
        "\n",
        "**K-Means**:\n",
        "- Unsupervised learning technique that partitions **N** data points into **K** clusters\n",
        "\n",
        "- Iterative technique that finds centroids based on means\n",
        "\n",
        "**K-Nearest Neighbors**:\n",
        "\n",
        "- Supervised learning technique that classifies data\n",
        "- Uses K nearest neighbors (feature space) for classification\n",
        "\n",
        "### **`K-Means is used for clustering, while K-Nearest neighbors is used to classify.`**\n",
        "\n",
        "K-Nearest Neighbors\n",
        "![K-Neighbors](https://intuitivetutorial.com/wp-content/uploads/2023/04/knn-1.png)\n",
        "\n",
        "\n",
        "\n",
        "---\n",
        "\n",
        "\n",
        "K-Means Clustering\n",
        "![K-means](https://miro.medium.com/v2/resize:fit:1080/1*fz-rjYPPRlGEMdTI-RLbDg.png)"
      ],
      "metadata": {
        "id": "BzwO0eqC00Dt"
      }
    },
    {
      "cell_type": "code",
      "source": [],
      "metadata": {
        "id": "jEhXjttWNozT"
      },
      "execution_count": null,
      "outputs": []
    }
  ]
}