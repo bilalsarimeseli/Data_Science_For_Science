{
  "nbformat": 4,
  "nbformat_minor": 0,
  "metadata": {
    "colab": {
      "provenance": [],
      "authorship_tag": "ABX9TyORbJKE5zqqy25U5HKPZZ+c",
      "include_colab_link": true
    },
    "kernelspec": {
      "name": "python3",
      "display_name": "Python 3"
    },
    "language_info": {
      "name": "python"
    }
  },
  "cells": [
    {
      "cell_type": "markdown",
      "metadata": {
        "id": "view-in-github",
        "colab_type": "text"
      },
      "source": [
        "<a href=\"https://colab.research.google.com/github/bilalsarimeseli/Data_Science_For_Science/blob/main/Data_Science_for_Science(SVM).ipynb\" target=\"_parent\"><img src=\"https://colab.research.google.com/assets/colab-badge.svg\" alt=\"Open In Colab\"/></a>"
      ]
    },
    {
      "cell_type": "markdown",
      "source": [
        "# **SUPPORT VECTOR MACHINES**\n",
        "\n",
        "The objective of the support vector machine algorithm is to find a hyperplane in an **N-dimensional space** (**N** — the number of features) that distinctly classifies the data points.\n",
        "\n",
        "![image](https://nl.mathworks.com/discovery/support-vector-machine/_jcr_content/mainParsys/image.adapt.full.medium.jpg/1701681577407.jpg)\n",
        "\n",
        "There exist numerous potential hyperplanes for delineating the two classes of data points. Our goal is to identify a plane with *the maximum margin*, signifying the greatest distance between data points belonging to different classes. Enhancing the margin distance serves to bolster the confidence in classifying future data points.\n",
        "\n",
        "\n",
        "**Hyperplanes and Support Vectors**\n",
        "\n",
        "Hyperplanes serve as decision boundaries facilitating the classification of data points. Data points situated on distinct sides of the hyperplane are assigned to different classes. Furthermore, the dimensionality of the hyperplane is contingent on the number of features. In cases where there are 2 input features, the hyperplane manifests as a line. With 3 input features, the hyperplane transforms into a two-dimensional plane. Visualization becomes challenging as the number of features surpasses 3.\n",
        "\n",
        "![Hyperplane](https://miro.medium.com/v2/resize:fit:1400/format:webp/1*ZpkLQf2FNfzfH4HXeMw4MQ.png)\n",
        "\n",
        "\n",
        "Support vectors refer to data points in proximity to the hyperplane, exerting influence on both its position and orientation. By leveraging these support vectors, we aim to maximize the margin of the classifier. The removal of support vectors can alter the hyperplane's position. These pivotal points play a crucial role in constructing our Support Vector Machine (SVM).\n",
        "\n",
        "![SV](https://miro.medium.com/v2/resize:fit:1100/format:webp/0*ecA4Ls8kBYSM5nza.jpg)"
      ],
      "metadata": {
        "id": "t9kBDoqK6oab"
      }
    },
    {
      "cell_type": "code",
      "execution_count": 1,
      "metadata": {
        "id": "upGrE1-a6IXN"
      },
      "outputs": [],
      "source": [
        "### Let's start by importing standard libraries.\n",
        "\n",
        "%matplotlib inline\n",
        "import numpy as np\n",
        "import matplotlib.pyplot as plt\n",
        "from scipy import stats\n",
        "import seaborn as sns\n",
        "from sklearn.svm import SVC"
      ]
    },
    {
      "cell_type": "code",
      "source": [],
      "metadata": {
        "id": "ZyMJWDFI6UdE"
      },
      "execution_count": null,
      "outputs": []
    }
  ]
}